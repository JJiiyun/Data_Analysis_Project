{
 "cells": [
  {
   "cell_type": "code",
   "execution_count": 5,
   "id": "0baba9cc",
   "metadata": {},
   "outputs": [
    {
     "name": "stdout",
     "output_type": "stream",
     "text": [
      "         취업자_15_29세  취업자_30_49세  취업자_50_64세\n",
      "연도                                         \n",
      "2010_H1      211942      459177      344982\n",
      "2010_H2      189736      514583      349953\n",
      "2011_H1      199475      489774      361557\n",
      "2011_H2      191980      486171      325446\n",
      "2012_H1      199331      509115      329084\n",
      "2012_H2      181900      469015      349987\n",
      "2013_H1      180792      485536      315777\n",
      "2013_H2      190216      494778      355361\n",
      "2014_H1      175649      463628      344431\n",
      "2014_H2      185135      518871      318775\n",
      "2015_H1      183949      488717      334242\n",
      "2015_H2      166612      495967      321032\n",
      "2016_H1      173641      484439      314872\n",
      "2016_H2      176055      489358      338829\n",
      "2017_H1      180803      485989      341610\n",
      "2017_H2      168029      476920      310518\n",
      "2018_H1      170386      463861      319465\n",
      "2018_H2      177581      488161      331091\n",
      "2019_H1      170835      495238      323116\n",
      "2019_H2      176268      445896      325867\n",
      "2020_H1      180333      471969      327216\n",
      "2020_H2      165905      458278      320194\n"
     ]
    }
   ],
   "source": [
    "import pandas as pd\n",
    "import numpy as np\n",
    "\n",
    "# CSV 파일 불러오기 및 전처리\n",
    "df = pd.read_csv(\"fukuoka_age_groups_employment.csv\")\n",
    "df = df.sort_values('연도')\n",
    "df_filtered = df[df['연도'].isin([2010, 2015, 2020])]\n",
    "df_filtered.set_index('연도', inplace=True)\n",
    "df_interpolated = df_filtered.reindex(range(2010, 2021))\n",
    "df_interpolated = df_interpolated.interpolate(method='linear')\n",
    "df_interpolated = df_interpolated.round().astype(int)\n",
    "\n",
    "# 반기별(H1, H2) 나누기\n",
    "semiannual_data = []\n",
    "\n",
    "for year in df_interpolated.index:\n",
    "    row = df_interpolated.loc[year]\n",
    "    # 반기 데이터를 담을 dict\n",
    "    h1_row = {'연도': f'{year}_H1'}\n",
    "    h2_row = {'연도': f'{year}_H2'}\n",
    "\n",
    "    for col in df_interpolated.columns:\n",
    "        ratio = np.random.uniform(0.47, 0.53)  # 50% ± 3%\n",
    "        total = row[col]\n",
    "        h1_value = round(total * ratio)\n",
    "        h2_value = total - h1_value  # 보존을 위해 나머지\n",
    "        h1_row[col] = h1_value\n",
    "        h2_row[col] = h2_value\n",
    "\n",
    "    semiannual_data.extend([h1_row, h2_row])\n",
    "\n",
    "# DataFrame 생성\n",
    "df_semiannual = pd.DataFrame(semiannual_data)\n",
    "df_semiannual.set_index('연도', inplace=True)\n",
    "\n",
    "# 결과 출력\n",
    "print(df_semiannual)\n",
    "\n",
    "# CSV로 저장\n",
    "df_semiannual.to_csv(\"후쿠오카_연령별_취업자수.csv\")\n"
   ]
  },
  {
   "cell_type": "code",
   "execution_count": null,
   "id": "b1f4127d",
   "metadata": {},
   "outputs": [],
   "source": []
  }
 ],
 "metadata": {
  "kernelspec": {
   "display_name": "soup",
   "language": "python",
   "name": "python3"
  },
  "language_info": {
   "codemirror_mode": {
    "name": "ipython",
    "version": 3
   },
   "file_extension": ".py",
   "mimetype": "text/x-python",
   "name": "python",
   "nbconvert_exporter": "python",
   "pygments_lexer": "ipython3",
   "version": "3.10.16"
  }
 },
 "nbformat": 4,
 "nbformat_minor": 5
}
