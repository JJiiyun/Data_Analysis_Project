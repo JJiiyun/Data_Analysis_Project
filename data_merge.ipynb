{
  "nbformat": 4,
  "nbformat_minor": 0,
  "metadata": {
    "colab": {
      "provenance": []
    },
    "kernelspec": {
      "name": "python3",
      "display_name": "Python 3"
    },
    "language_info": {
      "name": "python"
    }
  },
  "cells": [
    {
      "cell_type": "code",
      "execution_count": null,
      "metadata": {
        "id": "f4Rjo3Eg6jd8"
      },
      "outputs": [],
      "source": []
    },
    {
      "cell_type": "code",
      "source": [
        "import requests\n",
        "import pandas as pd\n",
        "import json\n",
        "\n",
        "def get_kosis_data(api_url):\n",
        "    # 통계청 OpenAPI URL로 DataFrame 가져오기\n",
        "\n",
        "    try:\n",
        "        # API 호출\n",
        "        response = requests.get(api_url)\n",
        "        print(f\"응답 상태: {response.status_code}\")\n",
        "\n",
        "        # JSON 데이터 파싱\n",
        "        if response.status_code == 200:\n",
        "            json_data = response.json()\n",
        "\n",
        "            # DataFrame 변환\n",
        "            df = pd.DataFrame(json_data)\n",
        "            print(f\"데이터 수집 완료: {len(df)}행\")\n",
        "            return df\n",
        "        else:\n",
        "            print(f\"API 호출 실패: {response.status_code}\")\n",
        "            return None\n",
        "\n",
        "    except Exception as e:\n",
        "        print(f\"오류 발생: {e}\")\n",
        "        return None\n",
        "\n",
        "# 사용법\n",
        "your_api_url = \"https://kosis.kr/openapi/Param/statisticsParameterData.do?method=getList&apiKey=YWE5NThkOGJhMTQxYzgyMmVmNDEwNGIzMWM2YzIzNDM=&itmId=T70+T80+&objL1=ALL&objL2=ALL&objL3=&objL4=&objL5=&objL6=&objL7=&objL8=&format=json&jsonVD=Y&prdSe=Q&newEstPrdCnt=9&prdInterval=1&orgId=101&tblId=DT_1B26003_A01\"\n",
        "df = get_kosis_data(your_api_url)\n",
        "\n",
        "# 결과 확인\n",
        "if df is not None:\n",
        "    print(df.head())\n",
        "    print(f\"컬럼: {df.columns.tolist()}\")\n"
      ],
      "metadata": {
        "colab": {
          "base_uri": "https://localhost:8080/"
        },
        "id": "UGeh6cEE67Ro",
        "outputId": "e5042499-9f9b-46b6-c95d-8e6d1da11e1b"
      },
      "execution_count": null,
      "outputs": [
        {
          "output_type": "stream",
          "name": "stdout",
          "text": [
            "응답 상태: 200\n",
            "데이터 수집 완료: 5832행\n",
            "  C1_OBJ_NM C2_NM       DT  C2  C1 PRD_SE UNIT_NM_ENG ITM_ID          TBL_ID  \\\n",
            "0      전출지별    전국  1717469  00  00      Q      Person    T70  DT_1B26003_A01   \n",
            "1      전출지별    전국  1426239  00  00      Q      Person    T70  DT_1B26003_A01   \n",
            "2      전출지별    전국  1470262  00  00      Q      Person    T70  DT_1B26003_A01   \n",
            "3      전출지별    전국  1514768  00  00      Q      Person    T70  DT_1B26003_A01   \n",
            "4      전출지별    전국  1814718  00  00      Q      Person    T70  DT_1B26003_A01   \n",
            "\n",
            "  ITM_NM  ...  LST_CHN_DE      C1_NM_ENG C1_NM UNIT_NM ITM_NM_ENG  \\\n",
            "0   이동자수  ...  2023-04-24  Whole Country    전국       명   Migrants   \n",
            "1   이동자수  ...  2023-07-10  Whole Country    전국       명   Migrants   \n",
            "2   이동자수  ...  2023-10-16  Whole Country    전국       명   Migrants   \n",
            "3   이동자수  ...  2024-01-10  Whole Country    전국       명   Migrants   \n",
            "4   이동자수  ...  2024-04-08  Whole Country    전국       명   Migrants   \n",
            "\n",
            "            C2_OBJ_NM_ENG      C2_NM_ENG ORG_ID            C1_OBJ_NM_ENG  \\\n",
            "0  By district to move-in  Whole Country    101  By district to move-out   \n",
            "1  By district to move-in  Whole Country    101  By district to move-out   \n",
            "2  By district to move-in  Whole Country    101  By district to move-out   \n",
            "3  By district to move-in  Whole Country    101  By district to move-out   \n",
            "4  By district to move-in  Whole Country    101  By district to move-out   \n",
            "\n",
            "  C2_OBJ_NM  \n",
            "0      전입지별  \n",
            "1      전입지별  \n",
            "2      전입지별  \n",
            "3      전입지별  \n",
            "4      전입지별  \n",
            "\n",
            "[5 rows x 22 columns]\n",
            "컬럼: ['C1_OBJ_NM', 'C2_NM', 'DT', 'C2', 'C1', 'PRD_SE', 'UNIT_NM_ENG', 'ITM_ID', 'TBL_ID', 'ITM_NM', 'TBL_NM', 'PRD_DE', 'LST_CHN_DE', 'C1_NM_ENG', 'C1_NM', 'UNIT_NM', 'ITM_NM_ENG', 'C2_OBJ_NM_ENG', 'C2_NM_ENG', 'ORG_ID', 'C1_OBJ_NM_ENG', 'C2_OBJ_NM']\n"
          ]
        }
      ]
    },
    {
      "cell_type": "code",
      "source": [],
      "metadata": {
        "id": "g4QHxujZ7BYr"
      },
      "execution_count": null,
      "outputs": []
    }
  ]
}